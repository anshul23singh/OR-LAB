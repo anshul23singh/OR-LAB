{
  "nbformat": 4,
  "nbformat_minor": 0,
  "metadata": {
    "colab": {
      "name": "EXP_4_AnshulSingh_ 500067693.ipynb",
      "provenance": [],
      "collapsed_sections": [],
      "authorship_tag": "ABX9TyP4mCudyaE4WRM3Ibb7KfMl",
      "include_colab_link": true
    },
    "kernelspec": {
      "name": "python3",
      "display_name": "Python 3"
    },
    "language_info": {
      "name": "python"
    }
  },
  "cells": [
    {
      "cell_type": "markdown",
      "metadata": {
        "id": "view-in-github",
        "colab_type": "text"
      },
      "source": [
        "<a href=\"https://colab.research.google.com/github/anshul23singh/OR-LAB/blob/main/EXP_4_AnshulSingh__500067693.ipynb\" target=\"_parent\"><img src=\"https://colab.research.google.com/assets/colab-badge.svg\" alt=\"Open In Colab\"/></a>"
      ]
    },
    {
      "cell_type": "markdown",
      "metadata": {
        "id": "kM2lOumBYH9c"
      },
      "source": [
        "OR LAB EXPERIMENT-4\n",
        "Anshul Singh 500067693 R103218021 CSE-BAO(5th SEM)"
      ]
    },
    {
      "cell_type": "code",
      "metadata": {
        "id": "81hnCDChYWxF"
      },
      "source": [
        "import cvxpy as cp"
      ],
      "execution_count": 1,
      "outputs": []
    },
    {
      "cell_type": "markdown",
      "metadata": {
        "id": "SMmn1LerYjIe"
      },
      "source": [
        "ANSWER 1"
      ]
    },
    {
      "cell_type": "code",
      "metadata": {
        "colab": {
          "base_uri": "https://localhost:8080/"
        },
        "id": "ujDOajjdYkzf",
        "outputId": "b35a65a6-b019-495e-a0b6-8b5134cf2a08"
      },
      "source": [
        "x1 = cp.Variable()\n",
        "x2 = cp.Variable()\n",
        "objective = cp.Maximize(7*x1 + 10*x2)\n",
        "constraints = [-1*x1 + 3*x2 <= 6 , 7*x1 + x2 <= 35]\n",
        "prob = cp.Problem(objective,constraints)\n",
        "prob.solve()"
      ],
      "execution_count": 9,
      "outputs": [
        {
          "output_type": "execute_result",
          "data": {
            "text/plain": [
              "66.49999997691361"
            ]
          },
          "metadata": {},
          "execution_count": 9
        }
      ]
    },
    {
      "cell_type": "markdown",
      "metadata": {
        "id": "ugjbW05hZsS2"
      },
      "source": [
        "ANSWER 2"
      ]
    },
    {
      "cell_type": "code",
      "metadata": {
        "colab": {
          "base_uri": "https://localhost:8080/"
        },
        "id": "uv7_Z_rbZ1iT",
        "outputId": "e7938138-e54f-46e2-f623-56a81a67da6c"
      },
      "source": [
        "x1=cp.Variable()\n",
        "x2=cp.Variable()\n",
        "objective = cp.Maximize(5*x1 + 8*x2)\n",
        "constraints = [1*x1 + 1*x2 <= 6 , 5*x1 + 9*x2 <= 45]\n",
        "prob=cp.Problem(objective,constraints)\n",
        "prob.solve()"
      ],
      "execution_count": 10,
      "outputs": [
        {
          "output_type": "execute_result",
          "data": {
            "text/plain": [
              "41.25000000018229"
            ]
          },
          "metadata": {},
          "execution_count": 10
        }
      ]
    },
    {
      "cell_type": "markdown",
      "metadata": {
        "id": "Fmn-rkc5ZuSD"
      },
      "source": [
        "ANSWER 3"
      ]
    },
    {
      "cell_type": "code",
      "metadata": {
        "colab": {
          "base_uri": "https://localhost:8080/"
        },
        "id": "uk6aDS4Ms_kH",
        "outputId": "8e8151c1-a1ad-4c4b-cf3c-b0543b76ea0c"
      },
      "source": [
        "x1 = cp.Variable(integer=True)\n",
        "x2 = cp.Variable(integer=True)\n",
        "objective = cp.Maximize( 10*x1 + 12*x2 )\n",
        "constraints = [x1 + x2 <= 35, 25*x1-12*x2 <= 0, 12*x1-10*x2 <= 0, x1>=0, x2>=0]\n",
        "prob = cp.Problem(objective,constraints)\n",
        "prob.solve()\n",
        "print(\"X1 : \", x1.value)\n",
        "print(\"X2 : \", x2.value)\n",
        "print(\"Value of obj : \", objective.value)"
      ],
      "execution_count": 11,
      "outputs": [
        {
          "output_type": "stream",
          "name": "stdout",
          "text": [
            "X1 :  0.0\n",
            "X2 :  35.0\n",
            "Value of obj :  420.0\n"
          ]
        }
      ]
    }
  ]
}