{
  "nbformat": 4,
  "nbformat_minor": 0,
  "metadata": {
    "colab": {
      "name": "EXP_4_AnshulSingh_ 500067693.ipynb",
      "provenance": [],
      "collapsed_sections": [],
      "authorship_tag": "ABX9TyOvmWGW+JVPQ8tQpUOET08X",
      "include_colab_link": true
    },
    "kernelspec": {
      "name": "python3",
      "display_name": "Python 3"
    },
    "language_info": {
      "name": "python"
    }
  },
  "cells": [
    {
      "cell_type": "markdown",
      "metadata": {
        "id": "view-in-github",
        "colab_type": "text"
      },
      "source": [
        "<a href=\"https://colab.research.google.com/github/anshul23singh/OR-LAB/blob/main/EXP_4_AnshulSingh__500067693.ipynb\" target=\"_parent\"><img src=\"https://colab.research.google.com/assets/colab-badge.svg\" alt=\"Open In Colab\"/></a>"
      ]
    },
    {
      "cell_type": "markdown",
      "metadata": {
        "id": "kM2lOumBYH9c"
      },
      "source": [
        "OR LAB EXPERIMENT-4\n",
        "Anshul Singh 500067693 R103218021 CSE-BAO(5th SEM)"
      ]
    },
    {
      "cell_type": "code",
      "metadata": {
        "id": "81hnCDChYWxF"
      },
      "source": [
        "import cvxpy as cp"
      ],
      "execution_count": 1,
      "outputs": []
    },
    {
      "cell_type": "markdown",
      "metadata": {
        "id": "SMmn1LerYjIe"
      },
      "source": [
        "ANSWER 1"
      ]
    },
    {
      "cell_type": "code",
      "metadata": {
        "colab": {
          "base_uri": "https://localhost:8080/"
        },
        "id": "ujDOajjdYkzf",
        "outputId": "b35a65a6-b019-495e-a0b6-8b5134cf2a08"
      },
      "source": [
        "x1 = cp.Variable()\n",
        "x2 = cp.Variable()\n",
        "objective = cp.Maximize(7*x1 + 10*x2)\n",
        "constraints = [-1*x1 + 3*x2 <= 6 , 7*x1 + x2 <= 35]\n",
        "prob = cp.Problem(objective,constraints)\n",
        "prob.solve()"
      ],
      "execution_count": 9,
      "outputs": [
        {
          "output_type": "execute_result",
          "data": {
            "text/plain": [
              "66.49999997691361"
            ]
          },
          "metadata": {},
          "execution_count": 9
        }
      ]
    },
    {
      "cell_type": "markdown",
      "metadata": {
        "id": "ugjbW05hZsS2"
      },
      "source": [
        "ANSWER 2"
      ]
    },
    {
      "cell_type": "code",
      "metadata": {
        "colab": {
          "base_uri": "https://localhost:8080/"
        },
        "id": "uv7_Z_rbZ1iT",
        "outputId": "e7938138-e54f-46e2-f623-56a81a67da6c"
      },
      "source": [
        "x1=cp.Variable()\n",
        "x2=cp.Variable()\n",
        "objective = cp.Maximize(5*x1 + 8*x2)\n",
        "constraints = [1*x1 + 1*x2 <= 6 , 5*x1 + 9*x2 <= 45]\n",
        "prob=cp.Problem(objective,constraints)\n",
        "prob.solve()"
      ],
      "execution_count": 10,
      "outputs": [
        {
          "output_type": "execute_result",
          "data": {
            "text/plain": [
              "41.25000000018229"
            ]
          },
          "metadata": {},
          "execution_count": 10
        }
      ]
    },
    {
      "cell_type": "markdown",
      "metadata": {
        "id": "Fmn-rkc5ZuSD"
      },
      "source": [
        "ANSWER 3"
      ]
    },
    {
      "cell_type": "code",
      "metadata": {
        "id": "Ootfnh_IamKa"
      },
      "source": [
        ""
      ],
      "execution_count": null,
      "outputs": []
    },
    {
      "cell_type": "code",
      "metadata": {
        "id": "JEpywGuBYhWY"
      },
      "source": [
        "\n"
      ],
      "execution_count": null,
      "outputs": []
    },
    {
      "cell_type": "code",
      "metadata": {
        "id": "Wy4jGcJNX5Cz"
      },
      "source": [
        ""
      ],
      "execution_count": null,
      "outputs": []
    }
  ]
}