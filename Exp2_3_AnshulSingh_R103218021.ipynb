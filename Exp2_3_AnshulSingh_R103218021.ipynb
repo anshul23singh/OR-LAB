{
  "nbformat": 4,
  "nbformat_minor": 0,
  "metadata": {
    "colab": {
      "name": "Exp2_3_AnshulSingh_R103218021.ipynb",
      "provenance": [],
      "collapsed_sections": [],
      "authorship_tag": "ABX9TyOCa6Db3Dbch7BQOmhTLvnq",
      "include_colab_link": true
    },
    "kernelspec": {
      "name": "python3",
      "display_name": "Python 3"
    },
    "language_info": {
      "name": "python"
    }
  },
  "cells": [
    {
      "cell_type": "markdown",
      "metadata": {
        "id": "view-in-github",
        "colab_type": "text"
      },
      "source": [
        "<a href=\"https://colab.research.google.com/github/anshul23singh/OR-LAB/blob/main/Exp2_3_AnshulSingh_R103218021.ipynb\" target=\"_parent\"><img src=\"https://colab.research.google.com/assets/colab-badge.svg\" alt=\"Open In Colab\"/></a>"
      ]
    },
    {
      "cell_type": "markdown",
      "metadata": {
        "id": "EIOtkKvkqZCl"
      },
      "source": [
        "ANS_1"
      ]
    },
    {
      "cell_type": "code",
      "metadata": {
        "colab": {
          "base_uri": "https://localhost:8080/"
        },
        "id": "kij9p5ndqhfp",
        "outputId": "eef8e8f5-7b39-4fc0-bc18-b3926880c289"
      },
      "source": [
        "from scipy.optimize import linprog\n",
        "obj1 = [-40, -35]\n",
        "lhs_ineq1 = [[ 2,  3],[4,  3]]\n",
        "rhs_ineq1 = [60, 96]\n",
        "bnd1 = [(0, float(\"inf\")), (0, float(\"inf\"))]\n",
        "opt1 = linprog(c=obj1, A_ub=lhs_ineq1, b_ub=rhs_ineq1, bounds=bnd1, method=\"revised simplex\")\n",
        "opt1"
      ],
      "execution_count": 1,
      "outputs": [
        {
          "output_type": "execute_result",
          "data": {
            "text/plain": [
              "     con: array([], dtype=float64)\n",
              "     fun: -1000.0\n",
              " message: 'Optimization terminated successfully.'\n",
              "     nit: 2\n",
              "   slack: array([0., 0.])\n",
              "  status: 0\n",
              " success: True\n",
              "       x: array([18.,  8.])"
            ]
          },
          "metadata": {},
          "execution_count": 1
        }
      ]
    },
    {
      "cell_type": "markdown",
      "metadata": {
        "id": "bYY2J7GnqpOX"
      },
      "source": [
        "ANS_2"
      ]
    },
    {
      "cell_type": "code",
      "metadata": {
        "colab": {
          "base_uri": "https://localhost:8080/"
        },
        "id": "SC4-NAJ7qrDO",
        "outputId": "94008296-da19-46ea-e494-76646c7d2fa8"
      },
      "source": [
        "c2 = [40, 24]\n",
        "a2 = [[ -20,  -50],[-80,  -50]]\n",
        "b2 = [-4800, -7200]\n",
        "bnd2 = [(0, float(\"inf\")), (0, float(\"inf\"))]\n",
        "opt2 = linprog(c=c2, A_ub=a2, b_ub=b2, bounds=bnd2, method=\"revised simplex\")\n",
        "opt2"
      ],
      "execution_count": 2,
      "outputs": [
        {
          "output_type": "execute_result",
          "data": {
            "text/plain": [
              "     con: array([], dtype=float64)\n",
              "     fun: 3456.0\n",
              " message: 'Optimization terminated successfully.'\n",
              "     nit: 3\n",
              "   slack: array([2400.,    0.])\n",
              "  status: 0\n",
              " success: True\n",
              "       x: array([  0., 144.])"
            ]
          },
          "metadata": {},
          "execution_count": 2
        }
      ]
    },
    {
      "cell_type": "markdown",
      "metadata": {
        "id": "2UhK6WulqyDO"
      },
      "source": [
        "ANS_3"
      ]
    },
    {
      "cell_type": "code",
      "metadata": {
        "colab": {
          "base_uri": "https://localhost:8080/"
        },
        "id": "ncJfMzj0qz2p",
        "outputId": "e4723514-dd21-41b9-9335-4973bfa32d75"
      },
      "source": [
        "c3 = [-5, -2]\n",
        "a3 = [[ 10,  2],[1,  0.5]]\n",
        "b3 = [2100, 600]\n",
        "bnd3 = [(0, float(\"inf\")), (800, float(\"inf\"))]\n",
        "opt3 = linprog(c=c3, A_ub=a3, b_ub=b3, bounds=bnd3, method=\"revised simplex\")\n",
        "opt3"
      ],
      "execution_count": 3,
      "outputs": [
        {
          "output_type": "execute_result",
          "data": {
            "text/plain": [
              "     con: array([], dtype=float64)\n",
              "     fun: -2100.0\n",
              " message: 'Optimization terminated successfully.'\n",
              "     nit: 2\n",
              "   slack: array([ 0., 75.])\n",
              "  status: 0\n",
              " success: True\n",
              "       x: array([   0., 1050.])"
            ]
          },
          "metadata": {},
          "execution_count": 3
        }
      ]
    },
    {
      "cell_type": "markdown",
      "metadata": {
        "id": "p18GwM5Nq6JO"
      },
      "source": [
        "ANS_4"
      ]
    },
    {
      "cell_type": "code",
      "metadata": {
        "colab": {
          "base_uri": "https://localhost:8080/"
        },
        "id": "RGI4UY_HrDWf",
        "outputId": "916ca6a8-9aed-4f7c-9639-f9b587c090dc"
      },
      "source": [
        "c4 = [-60, -40]\n",
        "a4 = [[ 2,  1]]\n",
        "b4 = [60]\n",
        "bnd4 = [(0, 25), (0, 35)]\n",
        "opt4 = linprog(c=c4, A_ub=a4, b_ub=b4, bounds=bnd4, method=\"revised simplex\")\n",
        "opt4"
      ],
      "execution_count": 4,
      "outputs": [
        {
          "output_type": "execute_result",
          "data": {
            "text/plain": [
              "     con: array([], dtype=float64)\n",
              "     fun: -2150.0\n",
              " message: 'Optimization terminated successfully.'\n",
              "     nit: 3\n",
              "   slack: array([0.])\n",
              "  status: 0\n",
              " success: True\n",
              "       x: array([12.5, 35. ])"
            ]
          },
          "metadata": {},
          "execution_count": 4
        }
      ]
    },
    {
      "cell_type": "markdown",
      "metadata": {
        "id": "mdaxbgVFrGQg"
      },
      "source": [
        "ANS_5"
      ]
    },
    {
      "cell_type": "code",
      "metadata": {
        "colab": {
          "base_uri": "https://localhost:8080/"
        },
        "id": "uIFNgZP1rIVE",
        "outputId": "8d4241d0-705b-46b4-e68c-c88642e5c96b"
      },
      "source": [
        "c5 = [20, 10]\n",
        "a5 = [[ 1,  2],[-3,  -1], [-4,  -3]]\n",
        "b5 = [40, -30, -60]\n",
        "bnd5 = [(0, float(\"inf\")), (0, float(\"inf\"))]\n",
        "opt5 = linprog(c=c5, A_ub=a5, b_ub=b5, bounds=bnd5, method=\"revised simplex\")\n",
        "opt5"
      ],
      "execution_count": 5,
      "outputs": [
        {
          "output_type": "execute_result",
          "data": {
            "text/plain": [
              "     con: array([], dtype=float64)\n",
              "     fun: 240.0\n",
              " message: 'Optimization terminated successfully.'\n",
              "     nit: 2\n",
              "   slack: array([10.,  0.,  0.])\n",
              "  status: 0\n",
              " success: True\n",
              "       x: array([ 6., 12.])"
            ]
          },
          "metadata": {},
          "execution_count": 5
        }
      ]
    },
    {
      "cell_type": "markdown",
      "metadata": {
        "id": "FOdkOhNDrQxF"
      },
      "source": [
        "ANS_6"
      ]
    },
    {
      "cell_type": "code",
      "metadata": {
        "colab": {
          "base_uri": "https://localhost:8080/"
        },
        "id": "1eP5kdNcrSXF",
        "outputId": "3177f833-1a32-455d-b528-7d829371338d"
      },
      "source": [
        "c6 = [-1, -1, -3]\n",
        "a6 = [[ 3,  2, 1],[2, 1, 2]]\n",
        "b6 = [300, 200]\n",
        "bnd6 = [(0, float(\"inf\")), (0, float(\"inf\")),  (0, float(\"inf\"))]\n",
        "opt6 = linprog(c=c6, A_ub=a6, b_ub=b6, bounds=bnd6, method=\"revised simplex\")\n",
        "opt6"
      ],
      "execution_count": 6,
      "outputs": [
        {
          "output_type": "execute_result",
          "data": {
            "text/plain": [
              "     con: array([], dtype=float64)\n",
              "     fun: -300.0\n",
              " message: 'Optimization terminated successfully.'\n",
              "     nit: 1\n",
              "   slack: array([200.,   0.])\n",
              "  status: 0\n",
              " success: True\n",
              "       x: array([  0.,   0., 100.])"
            ]
          },
          "metadata": {},
          "execution_count": 6
        }
      ]
    },
    {
      "cell_type": "code",
      "metadata": {
        "id": "GciZ6HzlqNWC"
      },
      "source": [
        ""
      ],
      "execution_count": null,
      "outputs": []
    }
  ]
}