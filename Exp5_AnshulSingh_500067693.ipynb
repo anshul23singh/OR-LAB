{
  "nbformat": 4,
  "nbformat_minor": 0,
  "metadata": {
    "colab": {
      "name": "Exp5_AnshulSingh_500067693.ipynb",
      "provenance": [],
      "authorship_tag": "ABX9TyMx/Y+zVplrd2Yhf+5bF4KW",
      "include_colab_link": true
    },
    "kernelspec": {
      "name": "python3",
      "display_name": "Python 3"
    },
    "language_info": {
      "name": "python"
    }
  },
  "cells": [
    {
      "cell_type": "markdown",
      "metadata": {
        "id": "view-in-github",
        "colab_type": "text"
      },
      "source": [
        "<a href=\"https://colab.research.google.com/github/anshul23singh/OR-LAB/blob/main/Exp5_AnshulSingh_500067693.ipynb\" target=\"_parent\"><img src=\"https://colab.research.google.com/assets/colab-badge.svg\" alt=\"Open In Colab\"/></a>"
      ]
    },
    {
      "cell_type": "markdown",
      "metadata": {
        "id": "Wbbr0l-sff_H"
      },
      "source": [
        "Q1."
      ]
    },
    {
      "cell_type": "code",
      "metadata": {
        "id": "7deXZ9Ey1-_S"
      },
      "source": [
        "from scipy.optimize import linprog"
      ],
      "execution_count": 20,
      "outputs": []
    },
    {
      "cell_type": "markdown",
      "metadata": {
        "id": "agVLp5gd1-j1"
      },
      "source": [
        ""
      ]
    },
    {
      "cell_type": "code",
      "metadata": {
        "colab": {
          "base_uri": "https://localhost:8080/"
        },
        "id": "P_mbF_IkfkQ1",
        "outputId": "36ec90ec-f047-4995-9562-e78fc7b39b90"
      },
      "source": [
        "obj = [3,2,3]\n",
        "a = [[ 2, 1, 1],[1, 3, 1],[3, 4, 2]]\n",
        "b = [2, 6, 8]\n",
        "bnd = [(0, float(\"inf\")), (0, float(\"inf\")), (0, float(\"inf\"))]\n",
        "opt = linprog(c=obj, A_eq=a, b_eq=b, bounds=bnd, method=\"revised simplex\")\n",
        "opt"
      ],
      "execution_count": 22,
      "outputs": [
        {
          "output_type": "stream",
          "name": "stderr",
          "text": [
            "/usr/local/lib/python3.7/dist-packages/ipykernel_launcher.py:5: OptimizeWarning: A_eq does not appear to be of full row rank. To improve performance, check the problem formulation for redundant equality constraints.\n",
            "  \"\"\"\n"
          ]
        },
        {
          "output_type": "execute_result",
          "data": {
            "text/plain": [
              "     con: array([0., 0., 0.])\n",
              "     fun: 4.0\n",
              " message: 'Optimization terminated successfully.'\n",
              "     nit: 2\n",
              "   slack: array([], dtype=float64)\n",
              "  status: 0\n",
              " success: True\n",
              "       x: array([0., 2., 0.])"
            ]
          },
          "metadata": {},
          "execution_count": 22
        }
      ]
    },
    {
      "cell_type": "markdown",
      "metadata": {
        "id": "9YoupkK52NdC"
      },
      "source": [
        "Q2."
      ]
    },
    {
      "cell_type": "code",
      "metadata": {
        "colab": {
          "base_uri": "https://localhost:8080/"
        },
        "id": "UMMTI0XE2O35",
        "outputId": "a5c202db-ac8f-4caf-b329-e34aa3a504c0"
      },
      "source": [
        "obj1 = [3, -4, 3]\n",
        "a1 = [[ 5, 6, 2],[1, -3, -5], [2, 5, -4]]\n",
        "b1 = [5, -8, 4]\n",
        "bnd1 = [(0, float(\"inf\")), (0, float(\"inf\")), (0, float(\"inf\"))]\n",
        "opt1 = linprog(c=obj1, A_ub=a1, b_ub=b1, bounds=bnd1, method=\"revised simplex\")\n",
        "opt1"
      ],
      "execution_count": 23,
      "outputs": [
        {
          "output_type": "execute_result",
          "data": {
            "text/plain": [
              "     con: array([], dtype=float64)\n",
              "     fun: 2.625\n",
              " message: 'Optimization terminated successfully.'\n",
              "     nit: 2\n",
              "   slack: array([0.   , 0.   , 7.625])\n",
              "  status: 0\n",
              " success: True\n",
              "       x: array([0.   , 0.375, 1.375])"
            ]
          },
          "metadata": {},
          "execution_count": 23
        }
      ]
    },
    {
      "cell_type": "markdown",
      "metadata": {
        "id": "bBajsHFO2Q2f"
      },
      "source": [
        "Q3."
      ]
    },
    {
      "cell_type": "code",
      "metadata": {
        "colab": {
          "base_uri": "https://localhost:8080/"
        },
        "id": "-oxZol9N2S4p",
        "outputId": "411116ec-c8e2-488b-9091-e9535e7083e9"
      },
      "source": [
        "obj2 = [-2, -4, -4, 3]\n",
        "a2 = [[ 1, 1, 1, 0],[1, 4, 0, 1],[3, 4, 2, 0]]\n",
        "b2 = [4, 8, 8]\n",
        "bnd2 = [(0, float(\"inf\")), (0, float(\"inf\")), (0, float(\"inf\")), (0, float(\"inf\"))]\n",
        "opt2 = linprog(c=obj2, A_eq=a2, b_eq=b2, bounds=bnd2, method=\"revised simplex\")\n",
        "opt2"
      ],
      "execution_count": 24,
      "outputs": [
        {
          "output_type": "execute_result",
          "data": {
            "text/plain": [
              "     con: array([0., 0., 0.])\n",
              "     fun: 8.0\n",
              " message: 'Optimization terminated successfully.'\n",
              "     nit: 3\n",
              "   slack: array([], dtype=float64)\n",
              "  status: 0\n",
              " success: True\n",
              "       x: array([0., 0., 4., 8.])"
            ]
          },
          "metadata": {},
          "execution_count": 24
        }
      ]
    }
  ]
}